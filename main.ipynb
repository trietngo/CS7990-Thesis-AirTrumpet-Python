{
 "cells": [
  {
   "cell_type": "markdown",
   "metadata": {},
   "source": [
    "Install all PIP Packages"
   ]
  },
  {
   "cell_type": "code",
   "execution_count": 1,
   "metadata": {},
   "outputs": [],
   "source": [
    "# %pip install mediapipe==0.10.21 python==3.11.9\n",
    "# %pip install opencv-contrib-python==4.11.0.86 python==3.11.9"
   ]
  },
  {
   "cell_type": "markdown",
   "metadata": {},
   "source": [
    "Import Necessary Packages"
   ]
  },
  {
   "cell_type": "code",
   "execution_count": 2,
   "metadata": {},
   "outputs": [],
   "source": [
    "import numpy as np\n",
    "import cv2 as cv\n",
    "import mediapipe as mp\n",
    "from mediapipe.python.solutions import hands, drawing_styles\n",
    "from mediapipe.python.solutions.hands import HandLandmark\n",
    "from mediapipe.python.solutions.drawing_utils import DrawingSpec"
   ]
  },
  {
   "cell_type": "code",
   "execution_count": 3,
   "metadata": {},
   "outputs": [],
   "source": [
    "\n",
    "mp_hands = hands\n",
    "hand = mp_hands.Hands()\n",
    "\n",
    "# Initializing the drawing utils for drawing the facial landmarks on image\n",
    "mp_drawing = mp.solutions.drawing_utils\n",
    "mp_drawing_styles = drawing_styles\n",
    "\n",
    "custom_style = mp_drawing_styles.get_default_hand_landmarks_style()\n",
    "custom_connections = list(mp_hands.HAND_CONNECTIONS)\n",
    "\n",
    "# Exclude the wrist, thumbs, and pinky fingers\n",
    "excluded_landmarks = [\n",
    "    HandLandmark.THUMB_CMC,\n",
    "    HandLandmark.THUMB_IP,\n",
    "    HandLandmark.THUMB_MCP,\n",
    "    HandLandmark.THUMB_TIP,\n",
    "    HandLandmark.PINKY_DIP,\n",
    "    HandLandmark.PINKY_MCP,\n",
    "    HandLandmark.PINKY_PIP,\n",
    "    HandLandmark.PINKY_TIP,\n",
    "    HandLandmark.WRIST\n",
    "]\n",
    "\n",
    "for landmark in excluded_landmarks:\n",
    "\n",
    "    # we change the way the excluded landmarks are drawn\n",
    "    custom_style[landmark] = DrawingSpec(color=(0,0,0), thickness=None)\n",
    "\n",
    "    # we remove all connections which contain these landmarks\n",
    "    custom_connections = [connection_tuple for connection_tuple in custom_connections \n",
    "                            if landmark.value not in connection_tuple]\n",
    "\n",
    "cap = cv.VideoCapture(0)\n",
    "if not cap.isOpened():\n",
    "    print(\"Cannot open camera\")\n",
    "    exit()\n",
    "\n",
    "while True:\n",
    "    # Capture frame-by-frame\n",
    "    ret, frame = cap.read()\n",
    " \n",
    "    # if frame is read correctly ret is True\n",
    "    if not ret:\n",
    "        print(\"Can't receive frame (stream end?). Exiting ...\")\n",
    "        break\n",
    "\n",
    "    # Our operations on the frame come here\n",
    "    image_rgb = cv.cvtColor(frame, cv.COLOR_BGR2RGB)\n",
    "\n",
    "    # Making predictions using hands model\n",
    "    # To improve performance, optionally mark the image as not writeable to\n",
    "    # pass by reference.\n",
    "    image_rgb.flags.writeable = False\n",
    "    results = hand.process(image_rgb)\n",
    "    image_rgb.flags.writeable = True\n",
    "\n",
    "    if results.multi_hand_landmarks:\n",
    "        for hand_landmarks in results.multi_hand_landmarks:\n",
    "            # print(hand_landmarks)\n",
    "            mp_drawing.draw_landmarks(\n",
    "                image_rgb, \n",
    "                hand_landmarks,\n",
    "                custom_connections,\n",
    "                custom_style\n",
    "                # mp_hands.HAND_CONNECTIONS\n",
    "            )\n",
    "\n",
    "    # Convert the RGB image back to BGR\n",
    "    image = cv.cvtColor(image_rgb, cv.COLOR_RGB2BGR)\n",
    "    \n",
    "    # Display the resulting frame\n",
    "    cv.imshow('Hand Landmarks', image)\n",
    "    if cv.waitKey(1) == ord('q'):\n",
    "        break\n",
    " \n",
    "# When everything done, release the capture\n",
    "cap.release()\n",
    "cv.destroyAllWindows()"
   ]
  }
 ],
 "metadata": {
  "kernelspec": {
   "display_name": ".venv311",
   "language": "python",
   "name": "python3"
  },
  "language_info": {
   "codemirror_mode": {
    "name": "ipython",
    "version": 3
   },
   "file_extension": ".py",
   "mimetype": "text/x-python",
   "name": "python",
   "nbconvert_exporter": "python",
   "pygments_lexer": "ipython3",
   "version": "3.11.9"
  }
 },
 "nbformat": 4,
 "nbformat_minor": 2
}
